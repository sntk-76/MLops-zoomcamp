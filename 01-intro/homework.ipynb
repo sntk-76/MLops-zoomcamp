{
 "cells": [
  {
   "cell_type": "code",
   "execution_count": 1,
   "id": "51251034",
   "metadata": {},
   "outputs": [],
   "source": [
    "import pandas as pd\n",
    "import numpy as np\n",
    "from sklearn.feature_extraction import DictVectorizer\n",
    "from sklearn.linear_model import LinearRegression\n",
    "from sklearn.metrics import mean_squared_error"
   ]
  },
  {
   "cell_type": "code",
   "execution_count": 2,
   "id": "80593fd0",
   "metadata": {},
   "outputs": [],
   "source": [
    "january_data = pd.read_parquet('https://d37ci6vzurychx.cloudfront.net/trip-data/yellow_tripdata_2023-01.parquet')\n",
    "february_data = pd.read_parquet('https://d37ci6vzurychx.cloudfront.net/trip-data/yellow_tripdata_2023-02.parquet')"
   ]
  },
  {
   "cell_type": "code",
   "execution_count": 3,
   "id": "e487e357",
   "metadata": {},
   "outputs": [],
   "source": [
    "def model(data): \n",
    "    \n",
    "    num_columns = len(data.columns)\n",
    "    print(f'The number of the column : {num_columns}')\n",
    "    \n",
    "    data['duration'] = data['tpep_dropoff_datetime'] - data['tpep_pickup_datetime']\n",
    "    data['duration'] = data['duration'].apply(lambda td: td.total_seconds()/60)\n",
    "    \n",
    "    duration_list = january_data['duration'].to_list()\n",
    "    print(f'The standard deviation of the trips duration : {np.std(duration_list)}')\n",
    "\n",
    "    filtered_data = data[(january_data['duration']>=1) & (data['duration']<=60)]\n",
    "    initial_len = len(data)\n",
    "    secondary_length = len(filtered_data)\n",
    "    \n",
    "    fraction_retained = (secondary_length / initial_len) * 100\n",
    "    print(f'The fraction of the records left : {fraction_retained}')\n",
    "\n",
    "    categorical = ['PULocationID', 'DOLocationID']\n",
    "    numerical = ['trip_distance']\n",
    "    filtered_data[categorical] = filtered_data[categorical].astype(str)\n",
    "\n",
    "    train_dicts = filtered_data[categorical + numerical].to_dict(orient='records')\n",
    "\n",
    "    dv = DictVectorizer()\n",
    "    X_train = dv.fit_transform(train_dicts)\n",
    "\n",
    "    target = 'duration'\n",
    "    y_train = filtered_data[target].values\n",
    "\n",
    "    num_features = X_train.shape[1]\n",
    "\n",
    "    print(\"Feature Matrix Shape:\", X_train.shape)\n",
    "    print(\"Number of Features (Columns):\", num_features)\n",
    "\n",
    "    lr = LinearRegression()\n",
    "    lr.fit(X_train, y_train)\n",
    "\n",
    "    y_pred = lr.predict(X_train)\n",
    "\n",
    "    rmse = np.sqrt(mean_squared_error(y_train, y_pred))\n",
    "    print(\"RMSE:\", rmse)\n",
    " \n"
   ]
  },
  {
   "cell_type": "markdown",
   "id": "3d313207",
   "metadata": {},
   "source": [
    "# January Results : "
   ]
  },
  {
   "cell_type": "code",
   "execution_count": 4,
   "id": "52e781c4",
   "metadata": {},
   "outputs": [
    {
     "name": "stdout",
     "output_type": "stream",
     "text": [
      "The number of the column : 19\n",
      "The standard deviation of the trips duration : 42.59434429744777\n",
      "The fraction of the records left : 98.1220282212598\n"
     ]
    },
    {
     "name": "stderr",
     "output_type": "stream",
     "text": [
      "/tmp/ipykernel_69968/2899833569.py:21: SettingWithCopyWarning: \n",
      "A value is trying to be set on a copy of a slice from a DataFrame.\n",
      "Try using .loc[row_indexer,col_indexer] = value instead\n",
      "\n",
      "See the caveats in the documentation: https://pandas.pydata.org/pandas-docs/stable/user_guide/indexing.html#returning-a-view-versus-a-copy\n",
      "  filtered_data[categorical] = filtered_data[categorical].astype(str)\n"
     ]
    },
    {
     "name": "stdout",
     "output_type": "stream",
     "text": [
      "Feature Matrix Shape: (3009173, 516)\n",
      "Number of Features (Columns): 516\n",
      "RMSE: 7.649140464167203\n"
     ]
    }
   ],
   "source": [
    "model(january_data)   "
   ]
  },
  {
   "cell_type": "markdown",
   "id": "51115ecc",
   "metadata": {},
   "source": [
    "# February results : "
   ]
  },
  {
   "cell_type": "code",
   "execution_count": 5,
   "id": "d3ff46f7",
   "metadata": {},
   "outputs": [
    {
     "name": "stdout",
     "output_type": "stream",
     "text": [
      "The number of the column : 19\n",
      "The standard deviation of the trips duration : 42.59434429744777\n"
     ]
    },
    {
     "name": "stderr",
     "output_type": "stream",
     "text": [
      "/tmp/ipykernel_69968/2899833569.py:12: UserWarning: Boolean Series key will be reindexed to match DataFrame index.\n",
      "  filtered_data = data[(january_data['duration']>=1) & (data['duration']<=60)]\n"
     ]
    },
    {
     "name": "stdout",
     "output_type": "stream",
     "text": [
      "The fraction of the records left : 97.99966025556331\n"
     ]
    },
    {
     "name": "stderr",
     "output_type": "stream",
     "text": [
      "/tmp/ipykernel_69968/2899833569.py:21: SettingWithCopyWarning: \n",
      "A value is trying to be set on a copy of a slice from a DataFrame.\n",
      "Try using .loc[row_indexer,col_indexer] = value instead\n",
      "\n",
      "See the caveats in the documentation: https://pandas.pydata.org/pandas-docs/stable/user_guide/indexing.html#returning-a-view-versus-a-copy\n",
      "  filtered_data[categorical] = filtered_data[categorical].astype(str)\n"
     ]
    },
    {
     "name": "stdout",
     "output_type": "stream",
     "text": [
      "Feature Matrix Shape: (2855666, 518)\n",
      "Number of Features (Columns): 518\n",
      "RMSE: 8.063359809055394\n"
     ]
    }
   ],
   "source": [
    "model(february_data)"
   ]
  }
 ],
 "metadata": {
  "kernelspec": {
   "display_name": "Python 3 (ipykernel)",
   "language": "python",
   "name": "python3"
  },
  "language_info": {
   "codemirror_mode": {
    "name": "ipython",
    "version": 3
   },
   "file_extension": ".py",
   "mimetype": "text/x-python",
   "name": "python",
   "nbconvert_exporter": "python",
   "pygments_lexer": "ipython3",
   "version": "3.9.12"
  }
 },
 "nbformat": 4,
 "nbformat_minor": 5
}
