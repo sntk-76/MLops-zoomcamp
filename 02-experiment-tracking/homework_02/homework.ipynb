{
 "cells": [
  {
   "cell_type": "markdown",
   "id": "5b58f036",
   "metadata": {},
   "source": [
    "# Question 1 : "
   ]
  },
  {
   "cell_type": "code",
   "execution_count": 1,
   "id": "8933287a",
   "metadata": {},
   "outputs": [
    {
     "name": "stdout",
     "output_type": "stream",
     "text": [
      "mlflow, version 2.22.0\n"
     ]
    }
   ],
   "source": [
    "! mlflow --version "
   ]
  },
  {
   "cell_type": "markdown",
   "id": "47ff0274",
   "metadata": {},
   "source": [
    "# Question 2 : "
   ]
  },
  {
   "cell_type": "code",
   "execution_count": null,
   "id": "7ccf1f2e",
   "metadata": {},
   "outputs": [
    {
     "name": "stdout",
     "output_type": "stream",
     "text": [
      "--2025-05-16 07:09:59--  https://d37ci6vzurychx.cloudfront.net/trip-data/green_tripdata_2023-01.parquet\n",
      "Resolving d37ci6vzurychx.cloudfront.net (d37ci6vzurychx.cloudfront.net)... 18.239.38.163, 18.239.38.181, 18.239.38.83, ...\n",
      "Connecting to d37ci6vzurychx.cloudfront.net (d37ci6vzurychx.cloudfront.net)|18.239.38.163|:443... connected.\n",
      "HTTP request sent, awaiting response... 200 OK\n",
      "Length: 1427002 (1.4M) [binary/octet-stream]\n",
      "Saving to: ‘./TAXI_DATA_FOLDER/green_tripdata_2023-01.parquet’\n",
      "\n",
      "green_tripdata_2023 100%[===================>]   1.36M  --.-KB/s    in 0.02s   \n",
      "\n",
      "2025-05-16 07:09:59 (88.9 MB/s) - ‘./TAXI_DATA_FOLDER/green_tripdata_2023-01.parquet’ saved [1427002/1427002]\n",
      "\n",
      "--2025-05-16 07:09:59--  https://d37ci6vzurychx.cloudfront.net/trip-data/green_tripdata_2023-02.parquet\n",
      "Resolving d37ci6vzurychx.cloudfront.net (d37ci6vzurychx.cloudfront.net)... 18.239.38.147, 18.239.38.181, 18.239.38.163, ...\n",
      "Connecting to d37ci6vzurychx.cloudfront.net (d37ci6vzurychx.cloudfront.net)|18.239.38.147|:443... connected.\n",
      "HTTP request sent, awaiting response... 200 OK\n",
      "Length: 1533740 (1.5M) [binary/octet-stream]\n",
      "Saving to: ‘./TAXI_DATA_FOLDER/green_tripdata_2023-02.parquet’\n",
      "\n",
      "green_tripdata_2023 100%[===================>]   1.46M  --.-KB/s    in 0.01s   \n",
      "\n",
      "2025-05-16 07:09:59 (118 MB/s) - ‘./TAXI_DATA_FOLDER/green_tripdata_2023-02.parquet’ saved [1533740/1533740]\n",
      "\n",
      "--2025-05-16 07:09:59--  https://d37ci6vzurychx.cloudfront.net/trip-data/green_tripdata_2023-03.parquet\n",
      "Resolving d37ci6vzurychx.cloudfront.net (d37ci6vzurychx.cloudfront.net)... 18.239.38.181, 18.239.38.163, 18.239.38.147, ...\n",
      "Connecting to d37ci6vzurychx.cloudfront.net (d37ci6vzurychx.cloudfront.net)|18.239.38.181|:443... connected.\n",
      "HTTP request sent, awaiting response... 200 OK\n",
      "Length: 1730999 (1.7M) [binary/octet-stream]\n",
      "Saving to: ‘./TAXI_DATA_FOLDER/green_tripdata_2023-03.parquet’\n",
      "\n",
      "green_tripdata_2023 100%[===================>]   1.65M  --.-KB/s    in 0.02s   \n",
      "\n",
      "2025-05-16 07:09:59 (101 MB/s) - ‘./TAXI_DATA_FOLDER/green_tripdata_2023-03.parquet’ saved [1730999/1730999]\n",
      "\n"
     ]
    }
   ],
   "source": [
    "for i in range(1,4):\n",
    "\n",
    "    url = f'https://d37ci6vzurychx.cloudfront.net/trip-data/green_tripdata_2023-0{i}.parquet'\n",
    "    !wget {url} -P ./TAXI_DATA_FOLDER\n",
    "\n",
    "!python preprocess_data.py --raw_data_path ./TAXI_DATA_FOLDER --dest_path ./output    \n",
    "#answer : 4\n"
   ]
  },
  {
   "cell_type": "markdown",
   "id": "62c5e42d",
   "metadata": {},
   "source": [
    "# Question 3 : "
   ]
  },
  {
   "cell_type": "code",
   "execution_count": null,
   "id": "f5f90ff9",
   "metadata": {},
   "outputs": [
    {
     "name": "stdout",
     "output_type": "stream",
     "text": [
      "2025/05/16 09:18:20 INFO mlflow.tracking.fluent: Autologging successfully enabled for sklearn.\n"
     ]
    }
   ],
   "source": [
    "!python train.py --data_path ./output\n",
    "#answer :2"
   ]
  },
  {
   "cell_type": "markdown",
   "id": "205ad048",
   "metadata": {},
   "source": [
    "# Question 4 :"
   ]
  },
  {
   "cell_type": "markdown",
   "id": "5af41670",
   "metadata": {},
   "source": [
    "default-artifact-root"
   ]
  },
  {
   "cell_type": "markdown",
   "id": "5662cfb5",
   "metadata": {},
   "source": [
    "# Question 5 : "
   ]
  },
  {
   "cell_type": "code",
   "execution_count": null,
   "id": "8e3d5f38",
   "metadata": {},
   "outputs": [
    {
     "name": "stdout",
     "output_type": "stream",
     "text": [
      "🏃 View run clean-vole-310 at: http://127.0.0.1:5000/#/experiments/1/runs/5ae22e791d8a49b98c7482740bf29f3a\n",
      "\n",
      "🧪 View experiment at: http://127.0.0.1:5000/#/experiments/1                    \n",
      "\n",
      "🏃 View run loud-lynx-413 at: http://127.0.0.1:5000/#/experiments/1/runs/3f9e4624dd9a4f1fafcf43b5cbba45ef\n",
      "\n",
      "🧪 View experiment at: http://127.0.0.1:5000/#/experiments/1                    \n",
      "\n",
      "🏃 View run respected-ox-681 at: http://127.0.0.1:5000/#/experiments/1/runs/e0629ba8284241fd8ef549e8c1fad7b8\n",
      "\n",
      "🧪 View experiment at: http://127.0.0.1:5000/#/experiments/1                    \n",
      "\n",
      "🏃 View run stately-wasp-475 at: http://127.0.0.1:5000/#/experiments/1/runs/92b7444d1f82481089440710cf2bf5fe\n",
      "\n",
      "🧪 View experiment at: http://127.0.0.1:5000/#/experiments/1                    \n",
      "\n",
      "🏃 View run aged-moose-30 at: http://127.0.0.1:5000/#/experiments/1/runs/b547d73e662347f6b85516b99ee43389\n",
      "\n",
      "🧪 View experiment at: http://127.0.0.1:5000/#/experiments/1                    \n",
      "\n",
      "🏃 View run kindly-trout-607 at: http://127.0.0.1:5000/#/experiments/1/runs/a23a12a142874ea389e0fe01661d09f4\n",
      "\n",
      "🧪 View experiment at: http://127.0.0.1:5000/#/experiments/1                    \n",
      "\n",
      "🏃 View run overjoyed-seal-687 at: http://127.0.0.1:5000/#/experiments/1/runs/0f7fb0186a6c4565861e13b04d762ebc\n",
      "\n",
      "🧪 View experiment at: http://127.0.0.1:5000/#/experiments/1                    \n",
      "\n",
      "🏃 View run skillful-croc-378 at: http://127.0.0.1:5000/#/experiments/1/runs/db151e67b9604409b402be27c6287f1f\n",
      "\n",
      "🧪 View experiment at: http://127.0.0.1:5000/#/experiments/1                    \n",
      "\n",
      "🏃 View run loud-toad-750 at: http://127.0.0.1:5000/#/experiments/1/runs/85c4591db18d43ae8b7298ce388425c4\n",
      "\n",
      "🧪 View experiment at: http://127.0.0.1:5000/#/experiments/1                    \n",
      "\n",
      "🏃 View run big-hare-423 at: http://127.0.0.1:5000/#/experiments/1/runs/780927055e9e44c6b9ca73bdaff04694\n",
      "\n",
      "🧪 View experiment at: http://127.0.0.1:5000/#/experiments/1                    \n",
      "\n",
      "🏃 View run carefree-hen-24 at: http://127.0.0.1:5000/#/experiments/1/runs/edc6c21c4a864b30a90a6b728d3ecf6d\n",
      "\n",
      "🧪 View experiment at: http://127.0.0.1:5000/#/experiments/1                    \n",
      "\n",
      "🏃 View run funny-newt-511 at: http://127.0.0.1:5000/#/experiments/1/runs/a0a7ca28ad7b4fcb9712b961e6e2fd8e\n",
      "\n",
      "🧪 View experiment at: http://127.0.0.1:5000/#/experiments/1                    \n",
      "\n",
      "🏃 View run hilarious-hawk-961 at: http://127.0.0.1:5000/#/experiments/1/runs/6b4006d7947b4e99a1ddf3f848c850ba\n",
      "\n",
      "🧪 View experiment at: http://127.0.0.1:5000/#/experiments/1                    \n",
      "\n",
      "🏃 View run tasteful-grouse-919 at: http://127.0.0.1:5000/#/experiments/1/runs/65fc897ceae74d85ae4d2a1ed8561430\n",
      "\n",
      "🧪 View experiment at: http://127.0.0.1:5000/#/experiments/1                    \n",
      "\n",
      "🏃 View run big-deer-867 at: http://127.0.0.1:5000/#/experiments/1/runs/a1b834471af444d482b8afb9352879f0\n",
      "\n",
      "🧪 View experiment at: http://127.0.0.1:5000/#/experiments/1                    \n",
      "\n",
      "100%|██████████| 15/15 [01:03<00:00,  4.20s/trial, best loss: 5.335419588556921]\n"
     ]
    }
   ],
   "source": [
    "!python hpo.py\n",
    "#answer : 5.335"
   ]
  },
  {
   "cell_type": "markdown",
   "id": "60895d21",
   "metadata": {},
   "source": [
    "# Question 6 : "
   ]
  },
  {
   "cell_type": "code",
   "execution_count": null,
   "id": "cb931aa4",
   "metadata": {},
   "outputs": [
    {
     "name": "stdout",
     "output_type": "stream",
     "text": [
      "\u001b[31m2025/05/16 10:30:53 WARNING mlflow.models.model: Model logged without a signature and input example. Please set `input_example` parameter when logging the model to auto infer the model signature.\u001b[0m\n",
      "🏃 View run brawny-eel-361 at: http://127.0.0.1:5000/#/experiments/2/runs/b4108d65f58d498e9384f9fa40e14c56\n",
      "🧪 View experiment at: http://127.0.0.1:5000/#/experiments/2\n",
      "\u001b[31m2025/05/16 10:31:06 WARNING mlflow.models.model: Model logged without a signature and input example. Please set `input_example` parameter when logging the model to auto infer the model signature.\u001b[0m\n",
      "🏃 View run monumental-dove-480 at: http://127.0.0.1:5000/#/experiments/2/runs/f1a9cee8721e4963ae8188248ed6a248\n",
      "🧪 View experiment at: http://127.0.0.1:5000/#/experiments/2\n",
      "\u001b[31m2025/05/16 10:31:13 WARNING mlflow.models.model: Model logged without a signature and input example. Please set `input_example` parameter when logging the model to auto infer the model signature.\u001b[0m\n",
      "🏃 View run peaceful-stork-249 at: http://127.0.0.1:5000/#/experiments/2/runs/85fe977eb0e94cadbf41773450f8d3c1\n",
      "🧪 View experiment at: http://127.0.0.1:5000/#/experiments/2\n",
      "\u001b[31m2025/05/16 10:31:22 WARNING mlflow.models.model: Model logged without a signature and input example. Please set `input_example` parameter when logging the model to auto infer the model signature.\u001b[0m\n",
      "🏃 View run debonair-dolphin-510 at: http://127.0.0.1:5000/#/experiments/2/runs/376645dc6b1f4557905fff2e20d4b4fc\n",
      "🧪 View experiment at: http://127.0.0.1:5000/#/experiments/2\n",
      "\u001b[31m2025/05/16 10:31:29 WARNING mlflow.models.model: Model logged without a signature and input example. Please set `input_example` parameter when logging the model to auto infer the model signature.\u001b[0m\n",
      "🏃 View run carefree-quail-775 at: http://127.0.0.1:5000/#/experiments/2/runs/4a170e6a7f8e435c8a0fd4304c3e485f\n",
      "🧪 View experiment at: http://127.0.0.1:5000/#/experiments/2\n",
      "Registered model 'random-forest-regressor-best' already exists. Creating a new version of this model...\n",
      "2025/05/16 10:31:29 INFO mlflow.store.model_registry.abstract_store: Waiting up to 300 seconds for model version to finish creation. Model name: random-forest-regressor-best, version 2\n",
      "Created version '2' of model 'random-forest-regressor-best'.\n",
      "✅ Best test RMSE: 5.567408012462019\n",
      "✅ Registered model: random-forest-regressor-best from run ID: b4108d65f58d498e9384f9fa40e14c56\n"
     ]
    }
   ],
   "source": [
    "!python register_model.py\n",
    "#answer : 5.567"
   ]
  }
 ],
 "metadata": {
  "kernelspec": {
   "display_name": "exp-tracking-env",
   "language": "python",
   "name": "python3"
  },
  "language_info": {
   "codemirror_mode": {
    "name": "ipython",
    "version": 3
   },
   "file_extension": ".py",
   "mimetype": "text/x-python",
   "name": "python",
   "nbconvert_exporter": "python",
   "pygments_lexer": "ipython3",
   "version": "3.9.21"
  }
 },
 "nbformat": 4,
 "nbformat_minor": 5
}
